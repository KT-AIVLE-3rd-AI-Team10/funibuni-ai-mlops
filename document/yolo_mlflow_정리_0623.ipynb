{
  "nbformat": 4,
  "nbformat_minor": 0,
  "metadata": {
    "colab": {
      "provenance": [],
      "machine_shape": "hm",
      "gpuType": "V100"
    },
    "kernelspec": {
      "name": "python3",
      "display_name": "Python 3"
    },
    "language_info": {
      "name": "python"
    },
    "accelerator": "GPU"
  },
  "cells": [
    {
      "cell_type": "markdown",
      "source": [
        "## 1. Import"
      ],
      "metadata": {
        "id": "yXMz1Fvq0Zpr"
      }
    },
    {
      "cell_type": "code",
      "execution_count": null,
      "metadata": {
        "id": "Zhnv33_SNwyC"
      },
      "outputs": [],
      "source": [
        "pip install mlflow"
      ]
    },
    {
      "cell_type": "code",
      "source": [
        "!pip install ultralytics"
      ],
      "metadata": {
        "id": "mk5uEpDXN1Ws"
      },
      "execution_count": null,
      "outputs": []
    },
    {
      "cell_type": "code",
      "source": [
        "from google.colab import drive\n",
        "drive.mount('/content/drive/')"
      ],
      "metadata": {
        "id": "FmyuiSyoN2hl",
        "colab": {
          "base_uri": "https://localhost:8080/"
        },
        "outputId": "bac40310-5e3b-49b4-8b6b-1f31760b4d1a"
      },
      "execution_count": 3,
      "outputs": [
        {
          "output_type": "stream",
          "name": "stdout",
          "text": [
            "Mounted at /content/drive/\n"
          ]
        }
      ]
    },
    {
      "cell_type": "code",
      "source": [
        "import os,json\n",
        "import glob,shutil\n",
        "import pandas as pd\n",
        "import numpy as np\n",
        "import matplotlib.pyplot as plt\n",
        "import seaborn as sns\n",
        "import random as rd\n",
        "import re\n",
        "\n",
        "from sklearn.model_selection import train_test_split\n",
        "from sklearn.metrics import *\n",
        "\n",
        "from keras.models import Sequential\n",
        "from keras.layers import Dense, Flatten, Conv2D, MaxPooling2D, Dropout\n",
        "from keras.backend import clear_session\n",
        "from keras.optimizers import Adam\n",
        "\n",
        "import mlflow\n",
        "import mlflow.keras\n",
        "\n",
        "import os\n",
        "import random\n",
        "import numpy as np\n",
        "import cv2\n",
        "import pandas as pd\n",
        "import torch\n",
        "\n",
        "import ultralytics\n",
        "ultralytics.checks()"
      ],
      "metadata": {
        "id": "BRI78gyxN6XB",
        "colab": {
          "base_uri": "https://localhost:8080/"
        },
        "outputId": "d8b1f367-280f-41ef-b3ac-bf5ac1ed0fbd"
      },
      "execution_count": 4,
      "outputs": [
        {
          "output_type": "stream",
          "name": "stderr",
          "text": [
            "Ultralytics YOLOv8.0.121 🚀 Python-3.10.12 torch-2.0.1+cu118 CUDA:0 (Tesla V100-SXM2-16GB, 16151MiB)\n",
            "Setup complete ✅ (4 CPUs, 25.5 GB RAM, 24.2/166.8 GB disk)\n"
          ]
        }
      ]
    },
    {
      "cell_type": "markdown",
      "source": [
        "## 2. 전처리"
      ],
      "metadata": {
        "id": "AGlghppW0rcY"
      }
    },
    {
      "cell_type": "code",
      "source": [
        "len(os.listdir('/content/drive/MyDrive/2023/빅프로젝트/data/0609/images/train')), len(os.listdir('/content/drive/MyDrive/2023/빅프로젝트/data/0609/labels/train'))"
      ],
      "metadata": {
        "id": "roXaeBFJN-KD",
        "colab": {
          "base_uri": "https://localhost:8080/"
        },
        "outputId": "e135af42-5c05-403b-8510-fae3c2e53f19"
      },
      "execution_count": 5,
      "outputs": [
        {
          "output_type": "execute_result",
          "data": {
            "text/plain": [
              "(300, 300)"
            ]
          },
          "metadata": {},
          "execution_count": 5
        }
      ]
    },
    {
      "cell_type": "code",
      "source": [
        "len(os.listdir('/content/drive/MyDrive/2023/빅프로젝트/data/0609/images/val')), len(os.listdir('/content/drive/MyDrive/2023/빅프로젝트/data/0609/labels/val'))"
      ],
      "metadata": {
        "id": "JTEds_XHOhn1",
        "colab": {
          "base_uri": "https://localhost:8080/"
        },
        "outputId": "6e1d62c2-229c-4ca7-8d84-30cf3d81158d"
      },
      "execution_count": 6,
      "outputs": [
        {
          "output_type": "execute_result",
          "data": {
            "text/plain": [
              "(80, 80)"
            ]
          },
          "metadata": {},
          "execution_count": 6
        }
      ]
    },
    {
      "cell_type": "code",
      "source": [
        "from ultralytics import YOLO\n",
        "\n",
        "model = YOLO('yolov8n.pt')"
      ],
      "metadata": {
        "id": "_Q6JUED9O2id",
        "colab": {
          "base_uri": "https://localhost:8080/"
        },
        "outputId": "c41dbe71-8e59-4b44-c903-f35d06355757"
      },
      "execution_count": 7,
      "outputs": [
        {
          "output_type": "stream",
          "name": "stderr",
          "text": [
            "Downloading https://github.com/ultralytics/assets/releases/download/v0.0.0/yolov8n.pt to yolov8n.pt...\n",
            "100%|██████████| 6.23M/6.23M [00:00<00:00, 148MB/s]\n"
          ]
        }
      ]
    },
    {
      "cell_type": "code",
      "source": [
        "print(type(model.names), len(model.names))\n",
        "print(model.names)"
      ],
      "metadata": {
        "id": "3wiC1sY4REqo",
        "colab": {
          "base_uri": "https://localhost:8080/"
        },
        "outputId": "5edaa281-0d54-45f8-a117-7bf420038e7a"
      },
      "execution_count": 8,
      "outputs": [
        {
          "output_type": "stream",
          "name": "stdout",
          "text": [
            "<class 'dict'> 80\n",
            "{0: 'person', 1: 'bicycle', 2: 'car', 3: 'motorcycle', 4: 'airplane', 5: 'bus', 6: 'train', 7: 'truck', 8: 'boat', 9: 'traffic light', 10: 'fire hydrant', 11: 'stop sign', 12: 'parking meter', 13: 'bench', 14: 'bird', 15: 'cat', 16: 'dog', 17: 'horse', 18: 'sheep', 19: 'cow', 20: 'elephant', 21: 'bear', 22: 'zebra', 23: 'giraffe', 24: 'backpack', 25: 'umbrella', 26: 'handbag', 27: 'tie', 28: 'suitcase', 29: 'frisbee', 30: 'skis', 31: 'snowboard', 32: 'sports ball', 33: 'kite', 34: 'baseball bat', 35: 'baseball glove', 36: 'skateboard', 37: 'surfboard', 38: 'tennis racket', 39: 'bottle', 40: 'wine glass', 41: 'cup', 42: 'fork', 43: 'knife', 44: 'spoon', 45: 'bowl', 46: 'banana', 47: 'apple', 48: 'sandwich', 49: 'orange', 50: 'broccoli', 51: 'carrot', 52: 'hot dog', 53: 'pizza', 54: 'donut', 55: 'cake', 56: 'chair', 57: 'couch', 58: 'potted plant', 59: 'bed', 60: 'dining table', 61: 'toilet', 62: 'tv', 63: 'laptop', 64: 'mouse', 65: 'remote', 66: 'keyboard', 67: 'cell phone', 68: 'microwave', 69: 'oven', 70: 'toaster', 71: 'sink', 72: 'refrigerator', 73: 'book', 74: 'clock', 75: 'vase', 76: 'scissors', 77: 'teddy bear', 78: 'hair drier', 79: 'toothbrush'}\n"
          ]
        }
      ]
    },
    {
      "cell_type": "code",
      "source": [
        "import yaml\n",
        "\n",
        "label_dic = {0:'chair',1:'bike',2:'fan',3:'tv'}"
      ],
      "metadata": {
        "id": "mtZm3HlORKDg"
      },
      "execution_count": 9,
      "outputs": []
    },
    {
      "cell_type": "code",
      "source": [
        "with open('/content/drive/MyDrive/2023/빅프로젝트/MLOps/class.yaml', 'w') as f:\n",
        "    data = {\n",
        "        'path': '/content/drive/MyDrive/2023/빅프로젝트/data/0609',\n",
        "        'train':'images/train',\n",
        "        'val': 'images/val',\n",
        "        'nc': len(label_dic),\n",
        "        'names': label_dic,\n",
        "    }\n",
        "    yaml.safe_dump(data, f)"
      ],
      "metadata": {
        "id": "qbR5USorRNWN"
      },
      "execution_count": null,
      "outputs": []
    },
    {
      "cell_type": "code",
      "source": [
        "#model.train(data='/content/drive/MyDrive/2023/빅프로젝트/MLOps/0616_class_gh.yaml', epochs=100,patience=30,batch=32,imgsz=416)"
      ],
      "metadata": {
        "id": "-lO3H3eERPNC"
      },
      "execution_count": null,
      "outputs": []
    },
    {
      "cell_type": "code",
      "source": [
        "import torch\n",
        "\n",
        "# GPU를 사용할 수 있는지 확인\n",
        "if torch.cuda.is_available():\n",
        "    # 특정 GPU 선택 (예: 첫 번째 GPU)\n",
        "    torch.cuda.set_device(0)\n",
        "    print(f'Using GPU: {torch.cuda.get_device_name(0)}')\n",
        "else:\n",
        "    print('CUDA is not available. Using CPU.')\n"
      ],
      "metadata": {
        "colab": {
          "base_uri": "https://localhost:8080/"
        },
        "id": "qe1BzQ8GTErj",
        "outputId": "bce570c2-815c-4a1a-8489-17ca302cb29e"
      },
      "execution_count": null,
      "outputs": [
        {
          "output_type": "stream",
          "name": "stdout",
          "text": [
            "Using GPU: Tesla V100-SXM2-16GB\n"
          ]
        }
      ]
    },
    {
      "cell_type": "markdown",
      "source": [
        "## 3. Tracking 준비\n",
        "* mlflow uri를 setting 해야 모델 로딩도 가능합니다."
      ],
      "metadata": {
        "id": "D0IxNr8R0Prq"
      }
    },
    {
      "cell_type": "code",
      "source": [
        "mlflow_uri = \"http://13.124.68.167:5000/\"\n",
        "mlflow.set_tracking_uri(mlflow_uri)"
      ],
      "metadata": {
        "id": "q4LVBEmP0OhK"
      },
      "execution_count": 10,
      "outputs": []
    },
    {
      "cell_type": "code",
      "source": [
        "#exp_id = mlflow.create_experiment(\"0623\")\n",
        "exp_id = 6\n",
        "exp_id"
      ],
      "metadata": {
        "id": "Wt03nTSmBMJp",
        "colab": {
          "base_uri": "https://localhost:8080/"
        },
        "outputId": "dc4fea16-3a30-4695-ffeb-4dd3ec3e8724"
      },
      "execution_count": 15,
      "outputs": [
        {
          "output_type": "execute_result",
          "data": {
            "text/plain": [
              "6"
            ]
          },
          "metadata": {},
          "execution_count": 15
        }
      ]
    },
    {
      "cell_type": "code",
      "source": [
        "myname = 'worldpapa2'\n",
        "model_name = 'test_detail' #의자 소분류 모델이다"
      ],
      "metadata": {
        "id": "PL-ZyZAgrxBs"
      },
      "execution_count": 19,
      "outputs": []
    },
    {
      "cell_type": "code",
      "source": [
        "## 콜백 함수\n",
        "def on_fit_epoch_end(trainer):\n",
        "    if mlflow:\n",
        "        metrics_dict = {f\"{re.sub('[()]', '', k)}\": float(v) for k, v in trainer.metrics.items()}\n",
        "        mlflow.log_metrics(metrics=metrics_dict, step=trainer.epoch)"
      ],
      "metadata": {
        "id": "rNJmatXEj8vj"
      },
      "execution_count": 17,
      "outputs": []
    },
    {
      "cell_type": "markdown",
      "source": [
        "## 4-1. (택1) MLflow 실행 시작"
      ],
      "metadata": {
        "id": "KL2qNENv1U5_"
      }
    },
    {
      "cell_type": "code",
      "source": [
        "# MLflow 실행 시작\n",
        "with mlflow.start_run(experiment_id=exp_id, run_name=myname):\n",
        "\n",
        "    ## 학습 전\n",
        "\n",
        "    # YOLO 모델 불러오기\n",
        "    model = YOLO('yolov8n.pt')\n",
        "\n",
        "    # 하이퍼파라미터 로깅\n",
        "    epochs = 2 #100\n",
        "    patience = 3 #30\n",
        "    batch_size = 32\n",
        "    imgsz = 416\n",
        "    data_path = '/content/drive/MyDrive/2023/빅프로젝트/MLOps/class.yaml'\n",
        "\n",
        "    mlflow.log_param(\"epochs\", epochs)\n",
        "    mlflow.log_param(\"patience\", patience)\n",
        "    mlflow.log_param(\"batch_size\", batch_size)\n",
        "    mlflow.log_param(\"imgsz\", imgsz)\n",
        "    mlflow.log_param(\"data_path\", data_path)\n",
        "\n",
        "    model.add_callback(\"on_fit_epoch_end\",on_fit_epoch_end)\n",
        "\n",
        "    ## 모델 학습\n",
        "    results = model.train(data=data_path, epochs=epochs, patience=patience, batch=batch_size, imgsz=imgsz)\n",
        "\n",
        "    ## 학습 후\n",
        "\n",
        "    # 모델 메트릭 로깅\n",
        "    mlflow.log_artifacts('/content/runs/detect/train')\n",
        "\n",
        "    # 베스트 모델 불러오기\n",
        "    checkpoint = torch.load('/content/runs/detect/train/weights/best.pt', map_location='cpu')\n",
        "    best_model = checkpoint.get('model') #, checkpoint)\n",
        "\n",
        "    # best.pt를 모델 폴더 안에 넣어줘야함!\n",
        "    mlflow.log_artifact('/content/runs/detect/train/weights/best.pt', artifact_path='best_model')\n",
        "\n",
        "    # MLflow에 모델 로깅 및 등록된 모델로 등록\n",
        "    mlflow.pytorch.log_model(best_model, \"best_model\", registered_model_name=model_name)"
      ],
      "metadata": {
        "colab": {
          "base_uri": "https://localhost:8080/"
        },
        "id": "XkbgdyaSSWU8",
        "outputId": "fb2eeb5e-1d6d-4dc3-8551-df16bf802666"
      },
      "execution_count": 18,
      "outputs": [
        {
          "output_type": "stream",
          "name": "stderr",
          "text": [
            "Ultralytics YOLOv8.0.121 🚀 Python-3.10.12 torch-2.0.1+cu118 CUDA:0 (Tesla V100-SXM2-16GB, 16151MiB)\n",
            "\u001b[34m\u001b[1myolo/engine/trainer: \u001b[0mtask=detect, mode=train, model=yolov8n.pt, data=/content/drive/MyDrive/2023/빅프로젝트/MLOps/class.yaml, epochs=1, patience=3, batch=32, imgsz=416, save=True, save_period=-1, cache=False, device=None, workers=8, project=None, name=None, exist_ok=False, pretrained=True, optimizer=auto, verbose=True, seed=0, deterministic=True, single_cls=False, rect=False, cos_lr=False, close_mosaic=0, resume=False, amp=True, fraction=1.0, profile=False, overlap_mask=True, mask_ratio=4, dropout=0.0, val=True, split=val, save_json=False, save_hybrid=False, conf=None, iou=0.7, max_det=300, half=False, dnn=False, plots=True, source=None, show=False, save_txt=False, save_conf=False, save_crop=False, show_labels=True, show_conf=True, vid_stride=1, line_width=None, visualize=False, augment=False, agnostic_nms=False, classes=None, retina_masks=False, boxes=True, format=torchscript, keras=False, optimize=False, int8=False, dynamic=False, simplify=False, opset=None, workspace=4, nms=False, lr0=0.01, lrf=0.01, momentum=0.937, weight_decay=0.0005, warmup_epochs=3.0, warmup_momentum=0.8, warmup_bias_lr=0.1, box=7.5, cls=0.5, dfl=1.5, pose=12.0, kobj=1.0, label_smoothing=0.0, nbs=64, hsv_h=0.015, hsv_s=0.7, hsv_v=0.4, degrees=0.0, translate=0.1, scale=0.5, shear=0.0, perspective=0.0, flipud=0.0, fliplr=0.5, mosaic=1.0, mixup=0.0, copy_paste=0.0, cfg=None, v5loader=False, tracker=botsort.yaml, save_dir=runs/detect/train\n",
            "Downloading https://ultralytics.com/assets/Arial.ttf to /root/.config/Ultralytics/Arial.ttf...\n",
            "100%|██████████| 755k/755k [00:00<00:00, 26.5MB/s]\n",
            "Overriding model.yaml nc=80 with nc=4\n",
            "\n",
            "                   from  n    params  module                                       arguments                     \n",
            "  0                  -1  1       464  ultralytics.nn.modules.conv.Conv             [3, 16, 3, 2]                 \n",
            "  1                  -1  1      4672  ultralytics.nn.modules.conv.Conv             [16, 32, 3, 2]                \n",
            "  2                  -1  1      7360  ultralytics.nn.modules.block.C2f             [32, 32, 1, True]             \n",
            "  3                  -1  1     18560  ultralytics.nn.modules.conv.Conv             [32, 64, 3, 2]                \n",
            "  4                  -1  2     49664  ultralytics.nn.modules.block.C2f             [64, 64, 2, True]             \n",
            "  5                  -1  1     73984  ultralytics.nn.modules.conv.Conv             [64, 128, 3, 2]               \n",
            "  6                  -1  2    197632  ultralytics.nn.modules.block.C2f             [128, 128, 2, True]           \n",
            "  7                  -1  1    295424  ultralytics.nn.modules.conv.Conv             [128, 256, 3, 2]              \n",
            "  8                  -1  1    460288  ultralytics.nn.modules.block.C2f             [256, 256, 1, True]           \n",
            "  9                  -1  1    164608  ultralytics.nn.modules.block.SPPF            [256, 256, 5]                 \n",
            " 10                  -1  1         0  torch.nn.modules.upsampling.Upsample         [None, 2, 'nearest']          \n",
            " 11             [-1, 6]  1         0  ultralytics.nn.modules.conv.Concat           [1]                           \n",
            " 12                  -1  1    148224  ultralytics.nn.modules.block.C2f             [384, 128, 1]                 \n",
            " 13                  -1  1         0  torch.nn.modules.upsampling.Upsample         [None, 2, 'nearest']          \n",
            " 14             [-1, 4]  1         0  ultralytics.nn.modules.conv.Concat           [1]                           \n",
            " 15                  -1  1     37248  ultralytics.nn.modules.block.C2f             [192, 64, 1]                  \n",
            " 16                  -1  1     36992  ultralytics.nn.modules.conv.Conv             [64, 64, 3, 2]                \n",
            " 17            [-1, 12]  1         0  ultralytics.nn.modules.conv.Concat           [1]                           \n",
            " 18                  -1  1    123648  ultralytics.nn.modules.block.C2f             [192, 128, 1]                 \n",
            " 19                  -1  1    147712  ultralytics.nn.modules.conv.Conv             [128, 128, 3, 2]              \n",
            " 20             [-1, 9]  1         0  ultralytics.nn.modules.conv.Concat           [1]                           \n",
            " 21                  -1  1    493056  ultralytics.nn.modules.block.C2f             [384, 256, 1]                 \n",
            " 22        [15, 18, 21]  1    752092  ultralytics.nn.modules.head.Detect           [4, [64, 128, 256]]           \n",
            "Model summary: 225 layers, 3011628 parameters, 3011612 gradients\n",
            "\n",
            "Transferred 319/355 items from pretrained weights\n",
            "\u001b[34m\u001b[1mTensorBoard: \u001b[0mStart with 'tensorboard --logdir runs/detect/train', view at http://localhost:6006/\n",
            "\u001b[34m\u001b[1mAMP: \u001b[0mrunning Automatic Mixed Precision (AMP) checks with YOLOv8n...\n",
            "WARNING ⚠️ NMS time limit 0.550s exceeded\n",
            "\u001b[34m\u001b[1mAMP: \u001b[0mchecks passed ✅\n",
            "\u001b[34m\u001b[1mtrain: \u001b[0mScanning /content/drive/MyDrive/2023/빅프로젝트/data/0609/labels/train.cache... 300 images, 0 backgrounds, 0 corrupt: 100%|██████████| 300/300 [00:00<?, ?it/s]\n",
            "\u001b[34m\u001b[1malbumentations: \u001b[0mBlur(p=0.01, blur_limit=(3, 7)), MedianBlur(p=0.01, blur_limit=(3, 7)), ToGray(p=0.01), CLAHE(p=0.01, clip_limit=(1, 4.0), tile_grid_size=(8, 8))\n",
            "\u001b[34m\u001b[1mval: \u001b[0mScanning /content/drive/MyDrive/2023/빅프로젝트/data/0609/labels/val.cache... 80 images, 0 backgrounds, 0 corrupt: 100%|██████████| 80/80 [00:00<?, ?it/s]\n",
            "Plotting labels to runs/detect/train/labels.jpg... \n",
            "\u001b[34m\u001b[1moptimizer:\u001b[0m AdamW(lr=0.00125, momentum=0.9) with parameter groups 57 weight(decay=0.0), 64 weight(decay=0.0005), 63 bias(decay=0.0)\n",
            "Image sizes 416 train, 416 val\n",
            "Using 4 dataloader workers\n",
            "Logging results to \u001b[1mruns/detect/train\u001b[0m\n",
            "Starting training for 1 epochs...\n",
            "\n",
            "      Epoch    GPU_mem   box_loss   cls_loss   dfl_loss  Instances       Size\n",
            "        1/1      2.08G     0.8135      3.283      1.157         30        416: 100%|██████████| 10/10 [00:18<00:00,  1.82s/it]\n",
            "                 Class     Images  Instances      Box(P          R      mAP50  mAP50-95): 100%|██████████| 2/2 [00:26<00:00, 13.13s/it]\n",
            "                   all         80         80    0.00406      0.989      0.376      0.334\n",
            "\n",
            "1 epochs completed in 0.014 hours.\n",
            "Optimizer stripped from runs/detect/train/weights/last.pt, 6.2MB\n",
            "Optimizer stripped from runs/detect/train/weights/best.pt, 6.2MB\n",
            "\n",
            "Validating runs/detect/train/weights/best.pt...\n",
            "Ultralytics YOLOv8.0.121 🚀 Python-3.10.12 torch-2.0.1+cu118 CUDA:0 (Tesla V100-SXM2-16GB, 16151MiB)\n",
            "Model summary (fused): 168 layers, 3006428 parameters, 0 gradients\n",
            "                 Class     Images  Instances      Box(P          R      mAP50  mAP50-95): 100%|██████████| 2/2 [00:01<00:00,  1.82it/s]\n",
            "                   all         80         80    0.00406      0.989      0.375      0.333\n",
            "                 chair         80         18    0.00372          1      0.342      0.306\n",
            "                  bike         80         20    0.00411          1      0.275      0.222\n",
            "                   fan         80         20    0.00411          1      0.483      0.448\n",
            "                    tv         80         22    0.00432      0.955      0.398      0.355\n",
            "Speed: 0.7ms preprocess, 0.4ms inference, 0.0ms loss, 1.3ms postprocess per image\n",
            "Results saved to \u001b[1mruns/detect/train\u001b[0m\n",
            "2023/06/23 00:47:15 WARNING mlflow.utils.requirements_utils: Found torch version (2.0.1+cu118) contains a local version label (+cu118). MLflow logged a pip requirement for this package as 'torch==2.0.1' without the local version label to make it installable from PyPI. To specify pip requirements containing local version labels, please use `conda_env` or `pip_requirements`.\n",
            "2023/06/23 00:47:22 WARNING mlflow.utils.requirements_utils: Found torchvision version (0.15.2+cu118) contains a local version label (+cu118). MLflow logged a pip requirement for this package as 'torchvision==0.15.2' without the local version label to make it installable from PyPI. To specify pip requirements containing local version labels, please use `conda_env` or `pip_requirements`.\n",
            "/usr/local/lib/python3.10/dist-packages/_distutils_hack/__init__.py:33: UserWarning: Setuptools is replacing distutils.\n",
            "  warnings.warn(\"Setuptools is replacing distutils.\")\n",
            "Successfully registered model 'test_detail'.\n",
            "2023/06/23 00:47:30 INFO mlflow.tracking._model_registry.client: Waiting up to 300 seconds for model version to finish creation. Model name: test_detail, version 1\n",
            "Created version '1' of model 'test_detail'.\n"
          ]
        }
      ]
    },
    {
      "cell_type": "markdown",
      "source": [
        "## 4-2. (택1) 모델 돌린 후 저장"
      ],
      "metadata": {
        "id": "3X6kBxNK1--A"
      }
    },
    {
      "cell_type": "code",
      "source": [
        "with mlflow.start_run(experiment_id=exp_id, run_name=myname):\n",
        "\n",
        "    # 모델 불러오기\n",
        "    checkpoint = torch.load('/content/runs/detect/train/weights/best.pt', map_location='cpu')\n",
        "    best_model = checkpoint.get('model') #, checkpoint)\n",
        "\n",
        "    # 모델 메트릭 로깅\n",
        "    mlflow.log_artifacts('/content/runs/detect/train')\n",
        "\n",
        "    # best.pt를 모델 폴더 안에 넣어줘야함!\n",
        "    mlflow.log_artifact('/content/runs/detect/train/weights/best.pt', artifact_path='best_model')\n",
        "\n",
        "    # MLflow에 모델 로깅 및 등록된 모델로 등록\n",
        "    mlflow.pytorch.log_model(best_model, \"best_model\", registered_model_name=model_name)"
      ],
      "metadata": {
        "id": "QuN5_S2ZeptO"
      },
      "execution_count": null,
      "outputs": []
    },
    {
      "cell_type": "markdown",
      "source": [
        "## 5-1. (택1) 모델 로컬(코랩)에 불러오기 : 스테이지로 불러오기"
      ],
      "metadata": {
        "id": "2ouxDVwAuioq"
      }
    },
    {
      "cell_type": "code",
      "source": [
        "import mlflow\n",
        "from mlflow.tracking import MlflowClient\n",
        "from mlflow.tracking.artifact_utils import _download_artifact_from_uri\n",
        "\n",
        "# MLflow 클라이언트 생성\n",
        "client = MlflowClient()\n",
        "\n",
        "# 모델 이름과 알리아스(여기서는 \"production\")를 사용하여 모델의 최신 버전 정보를 가져옴\n",
        "model_name = \"yolo_0621\"\n",
        "latest_version_info = client.get_latest_versions(model_name, stages=[\"Staging\"])\n",
        "\n",
        "# 최신 버전의 소스(artifact) URI를 가져옴\n",
        "if latest_version_info:\n",
        "    source_uri = latest_version_info[0].source\n",
        "    print(source_uri)\n",
        "    # source_uri를 사용하여 특정 아티팩트를 다운로드\n",
        "    #artifact_path = \"/best_model/best.pt\"\n",
        "    artifact = _download_artifact_from_uri(\n",
        "        artifact_uri=source_uri,\n",
        "        output_path= \"/content\" #artifact_path\n",
        "    )\n",
        "\n",
        "    # `artifact` 변수에는 다운로드된 파일의 로컬 경로가 있습니다.\n",
        "else:\n",
        "    print(\"No model found\")"
      ],
      "metadata": {
        "colab": {
          "base_uri": "https://localhost:8080/"
        },
        "id": "oapPDzdzsBu_",
        "outputId": "b0536028-aac3-4f09-8ebf-e415bb05e79d"
      },
      "execution_count": 41,
      "outputs": [
        {
          "output_type": "stream",
          "name": "stdout",
          "text": [
            "[<ModelVersion: aliases=[], creation_timestamp=1687312512738, current_stage='Staging', description='', last_updated_timestamp=1687312580464, name='yolo_0621', run_id='76183807d482458484bcea80d267f23f', run_link='', source='mlflow-artifacts:/4/76183807d482458484bcea80d267f23f/artifacts/best_model', status='READY', status_message='', tags={}, user_id='', version='3'>]\n",
            "mlflow-artifacts:/4/76183807d482458484bcea80d267f23f/artifacts/best_model\n"
          ]
        }
      ]
    },
    {
      "cell_type": "markdown",
      "source": [
        "## 5-2. (택1) 모델 로컬(코랩)에 불러오기 : 버전으로 불러오기"
      ],
      "metadata": {
        "id": "OgYZxwO7Bv5b"
      }
    },
    {
      "cell_type": "code",
      "source": [
        "import mlflow\n",
        "from mlflow.tracking import MlflowClient\n",
        "from mlflow.tracking.artifact_utils import _download_artifact_from_uri\n",
        "\n",
        "# MLflow 클라이언트 생성\n",
        "client = MlflowClient()\n",
        "\n",
        "# 모델 이름과 버전 지정\n",
        "model_name = \"yolo_0621\"\n",
        "model_version = 3\n",
        "\n",
        "# 모델의 다운로드 URI 가져오기\n",
        "source_uri = client.get_model_version_download_uri(model_name, model_version)\n",
        "print(source_uri)\n",
        "\n",
        "# 다운로드 URI를 사용하여 모델 다운로드\n",
        "artifact = _download_artifact_from_uri(\n",
        "    artifact_uri=source_uri,\n",
        "    output_path=\"/content\"  # 저장할 경로 지정\n",
        ")\n",
        "\n",
        "# `artifact` 변수에는 다운로드된 파일의 로컬 경로가 있습니다.\n"
      ],
      "metadata": {
        "id": "v0nszC6sBsLw"
      },
      "execution_count": null,
      "outputs": []
    },
    {
      "cell_type": "code",
      "source": [
        "yolo_model = YOLO('/content/best_model/best.pt')"
      ],
      "metadata": {
        "id": "PqS5ZSoGuSrV"
      },
      "execution_count": 22,
      "outputs": []
    },
    {
      "cell_type": "code",
      "source": [
        "result = yolo_model.predict(source = '/content/drive/MyDrive/2023/빅프로젝트/data/0609/images/test', save=True)"
      ],
      "metadata": {
        "id": "Av7CgeqGuWPs"
      },
      "execution_count": null,
      "outputs": []
    },
    {
      "cell_type": "markdown",
      "source": [
        "## 6. (Optional) 모델 > 버전 설명 추가\n",
        "\n",
        "http://13.124.68.167:5000/#/models/yolo_0621/versions/3"
      ],
      "metadata": {
        "id": "APhBzaGnDUf3"
      }
    },
    {
      "cell_type": "markdown",
      "source": [
        "### description 추가"
      ],
      "metadata": {
        "id": "DHJVgyZhDbZJ"
      }
    },
    {
      "cell_type": "code",
      "source": [
        "# 설명 추가\n",
        "client.update_model_version(\n",
        "    name=model_name,\n",
        "    version=str(model_version),  # 정수를 문자열로 변환\n",
        "    description=\"욜로 버전3 설명 테스트\"\n",
        ")"
      ],
      "metadata": {
        "colab": {
          "base_uri": "https://localhost:8080/"
        },
        "id": "95M6cFYvCaqd",
        "outputId": "d25de801-d429-4ba4-9edf-b55fe53c404f"
      },
      "execution_count": 44,
      "outputs": [
        {
          "output_type": "execute_result",
          "data": {
            "text/plain": [
              "<ModelVersion: aliases=[], creation_timestamp=1687312512738, current_stage='Staging', description='욜로 버전3 설명 테스트', last_updated_timestamp=1687486702701, name='yolo_0621', run_id='76183807d482458484bcea80d267f23f', run_link='', source='mlflow-artifacts:/4/76183807d482458484bcea80d267f23f/artifacts/best_model', status='READY', status_message='', tags={'description': '욜로 버전3 태그 테스트'}, user_id='', version='3'>"
            ]
          },
          "metadata": {},
          "execution_count": 44
        }
      ]
    },
    {
      "cell_type": "markdown",
      "source": [
        "### tag 추가"
      ],
      "metadata": {
        "id": "DRD9IzRqDaXj"
      }
    },
    {
      "cell_type": "code",
      "source": [
        "from mlflow.tracking import MlflowClient\n",
        "\n",
        "client = MlflowClient()\n",
        "\n",
        "model_name = \"yolo_0621\"\n",
        "model_version = 3\n",
        "\n",
        "# 태그 추가\n",
        "client.set_model_version_tag(\n",
        "    name=model_name,\n",
        "    version=str(model_version),\n",
        "    key=\"description\",\n",
        "    value=\"욜로 버전3 태그 테스트\"\n",
        ")"
      ],
      "metadata": {
        "id": "A5U-xYzkCNha"
      },
      "execution_count": 43,
      "outputs": []
    },
    {
      "cell_type": "markdown",
      "source": [
        "### Schema 추가 (생략)"
      ],
      "metadata": {
        "id": "pNrjoZtSDgLq"
      }
    },
    {
      "cell_type": "code",
      "source": [
        "# # 스키마 추가\n",
        "\n",
        "# from mlflow.types import Schema, ColSpec\n",
        "\n",
        "# # Schema 정의\n",
        "# schema = Schema([\n",
        "#     ColSpec(\"integer\", \"age\"),\n",
        "#     ColSpec(\"string\", \"name\"),\n",
        "# ])\n",
        "\n",
        "# # 로그를 시작하고 스키마를 로그에 기록\n",
        "# with mlflow.start_run():\n",
        "#     mlflow.log_param(\"my\", \"param\")\n",
        "#     mlflow.log_metric(\"score\", 100)\n",
        "#     mlflow.pyfunc.log_model(\"model\", loader_module=\"mymodule\", data_path=\"mypath\", schema=schema)\n"
      ],
      "metadata": {
        "id": "EmlO3cX-C6Fb"
      },
      "execution_count": null,
      "outputs": []
    }
  ]
}